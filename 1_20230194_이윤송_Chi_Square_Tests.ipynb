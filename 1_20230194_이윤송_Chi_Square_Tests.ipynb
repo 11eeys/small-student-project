{
  "nbformat": 4,
  "nbformat_minor": 0,
  "metadata": {
    "colab": {
      "provenance": [],
      "authorship_tag": "ABX9TyOEwFx0G6m2lu1EOvtcnTHn",
      "include_colab_link": true
    },
    "kernelspec": {
      "name": "python3",
      "display_name": "Python 3"
    },
    "language_info": {
      "name": "python"
    }
  },
  "cells": [
    {
      "cell_type": "markdown",
      "metadata": {
        "id": "view-in-github",
        "colab_type": "text"
      },
      "source": [
        "<a href=\"https://colab.research.google.com/github/11eeys/small-student-project/blob/main/1_20230194_%EC%9D%B4%EC%9C%A4%EC%86%A1_Chi_Square_Tests.ipynb\" target=\"_parent\"><img src=\"https://colab.research.google.com/assets/colab-badge.svg\" alt=\"Open In Colab\"/></a>"
      ]
    },
    {
      "cell_type": "markdown",
      "source": [
        "**연도별 9급 공무원 응시자 과락자 수**\n",
        "\n",
        ">\n",
        "\n",
        "|Year     |Candidates|Failed candidates|||\n",
        "|:--:        |:--:|:--:|:--:|:--:|\n",
        "|2021|156311|67507|\n",
        "|2022|127643|67092|\n",
        "|2023|95436|54639|\n",
        ">\n"
      ],
      "metadata": {
        "id": "5wxhvIRdpivJ"
      }
    },
    {
      "cell_type": "code",
      "source": [
        "import pandas as pd\n",
        "import numpy as np\n",
        "from scipy.stats import chi2_contingency\n",
        "\n",
        "observed_freq = np.array([[156311, 67507],[124643, 67092], [95436, 54639]])\n",
        "\n",
        "df = pd.DataFrame(observed_freq, index = ['2021', '2022', '2023'], columns = ['Candidates', 'Failed candidates'])\n",
        "\n",
        "print(df)\n",
        "print('\\n')\n",
        "\n",
        "# Perform chi-square test\n",
        "chi2_statistic, p_value, degrees_of_freedom, expected_freq = chi2_contingency(observed_freq)\n",
        "\n",
        "print ('Ho: Candidates of (e.g., 2021, 2022) is similar among different year groups.')\n",
        "print ('Ho: Failed candidates of (e.g., 2021, 2022) is similar among different year groups.')\n",
        "print ('Ho: Candidates of (e.g., 2023) is decreased among different year groups.')\n",
        "print ('Ho: Failed candidates of (e.g., 2023) is decreased among different year groups.')\n",
        "\n",
        "print(\"\\n\", \"Chi-square statistic:\", chi2_statistic)\n",
        "\n",
        "print(\"\\n\", \"p-value:\", p_value)\n",
        "\n",
        "print(\"\\n\", \"Degrees of freedom:\", degrees_of_freedom)\n",
        "\n",
        "print(\"\\n\", \"Expected frequencies:\\n\", expected_freq)\n",
        "\n",
        "# Define the CTT (critical test threshold, aka., alpha)\n",
        "alpha = 0.05\n",
        "\n",
        "# Interpret the result\n",
        "if p_value > alpha:\n",
        "    print(\"\\n\", \"Candidates of (e.g., 2021, 2022) is similar among different year groups. (fail to reject H0)\")\n",
        "else:\n",
        "    print(\"\\n\", \"Candidates of (e.g., 2021, 2022) is different among different year groups. (reject H0)\")\n",
        "\n",
        "if p_value > alpha:\n",
        "    print(\"\\n\", \"Failed candidates of (e.g., 2021, 2022) is similar among different year groups. (fail to reject H0)\")\n",
        "else:\n",
        "    print(\"\\n\", \"Failed candidates of (e.g., 2021, 2022) is different among different year groups. (reject H0)\")\n",
        "\n",
        "if p_value > alpha:\n",
        "    print(\"\\n\", \"Candidates of (e.g., 2023) is decreased among different year groups. (fail to reject H0)\")\n",
        "else:\n",
        "    print(\"\\n\", \"Candidates of (e.g., 2023) is increased among different year groups. (reject H0)\")\n",
        "\n",
        "if p_value > alpha:\n",
        "    print(\"\\n\", \" Failed candidates of (e.g., 2023) is decreased among different year groups. (fail to reject H0)\")\n",
        "else:\n",
        "    print(\"\\n\", \" Failed candidates of (e.g., 2023) is increased among different year groups. (reject H0)\")"
      ],
      "metadata": {
        "colab": {
          "base_uri": "https://localhost:8080/"
        },
        "id": "Uhm_P1kCLzzg",
        "outputId": "03b0d2bc-6a6a-4519-cafd-a0052de21bd3"
      },
      "execution_count": 1,
      "outputs": [
        {
          "output_type": "stream",
          "name": "stdout",
          "text": [
            "      Candidates  Failed candidates\n",
            "2021      156311              67507\n",
            "2022      124643              67092\n",
            "2023       95436              54639\n",
            "\n",
            "\n",
            "Ho: Candidates of (e.g., 2021, 2022) is similar among different year groups.\n",
            "Ho: Failed candidates of (e.g., 2021, 2022) is similar among different year groups.\n",
            "Ho: Candidates of (e.g., 2023) is decreased among different year groups.\n",
            "Ho: Failed candidates of (e.g., 2023) is decreased among different year groups.\n",
            "\n",
            " Chi-square statistic: 1881.672848514257\n",
            "\n",
            " p-value: 0.0\n",
            "\n",
            " Degrees of freedom: 2\n",
            "\n",
            " Expected frequencies:\n",
            " [[148936.85782882  74881.14217118]\n",
            " [127587.63118162  64147.36881838]\n",
            " [ 99865.51098955  50209.48901045]]\n",
            "\n",
            " Candidates of (e.g., 2021, 2022) is different among different year groups. (reject H0)\n",
            "\n",
            " Failed candidates of (e.g., 2021, 2022) is different among different year groups. (reject H0)\n",
            "\n",
            " Candidates of (e.g., 2023) is increased among different year groups. (reject H0)\n",
            "\n",
            "  Failed candidates of (e.g., 2023) is increased among different year groups. (reject H0)\n"
          ]
        }
      ]
    }
  ]
}